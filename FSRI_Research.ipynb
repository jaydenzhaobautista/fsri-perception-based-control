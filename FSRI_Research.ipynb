{
  "cells": [
    {
      "cell_type": "code",
      "execution_count": null,
      "metadata": {
        "id": "xnKJTNqqCA2o"
      },
      "outputs": [],
      "source": [
        "import numpy as np\n",
        "from matplotlib import pyplot as plt\n",
        "import random\n",
        "import pickle"
      ]
    },
    {
      "cell_type": "code",
      "execution_count": null,
      "metadata": {
        "id": "XUIz4w52c840"
      },
      "outputs": [],
      "source": [
        "def show_image( image_data ): # Used for testing\n",
        "  im = plt.imshow(image_data, cmap='Greys')\n",
        "  plt.show()"
      ]
    },
    {
      "cell_type": "code",
      "execution_count": null,
      "metadata": {
        "id": "ZOsUXLGlf1rI"
      },
      "outputs": [],
      "source": [
        "def dynamics(x_t, u_t): # Returns x_t+1\n",
        "  A = np.array([[1.0, 1.0], [0.0, 1.0]])\n",
        "  B = np.array([[0.0], [1.0]])\n",
        "  Ax_t = np.matmul(A, x_t)\n",
        "  Bu_t = B * u_t\n",
        "\n",
        "  return np.add(Ax_t, Bu_t)"
      ]
    },
    {
      "cell_type": "code",
      "execution_count": null,
      "metadata": {
        "id": "kJOAoVY2fuWx"
      },
      "outputs": [],
      "source": [
        "def collect_data( x_t1, u_list, times, cur_list ): # Collects x's given x_t1, list of u_t, and number of times to calculate\n",
        "    cur_x = x_t1\n",
        "    x_list = [cur_x]\n",
        "    for i in range(times):\n",
        "        next_x = dynamics(cur_x, u_list[i])\n",
        "        pos = next_x[0][0]\n",
        "\n",
        "        if pos >= 99:\n",
        "          next_x[0][0] = 99\n",
        "          x_list.append(next_x)\n",
        "          next_x[0][0] = random.randint(10, 90)\n",
        "        elif pos < 0:\n",
        "          next_x[0][0] = 0\n",
        "          x_list.append(next_x)\n",
        "          next_x[0][0] = random.randint(10, 90)\n",
        "        else:\n",
        "          x_list.append(next_x)\n",
        "        cur_x = next_x\n",
        "\n",
        "    cur_list += x_list"
      ]
    },
    {
      "cell_type": "code",
      "execution_count": null,
      "metadata": {
        "id": "Z2nQdosunE70"
      },
      "outputs": [],
      "source": [
        "def create_u_list( times ): # Creates list of u_t for testing given number of u's to create\n",
        "    u_list = []\n",
        "    for i in range(times):\n",
        "        u = random.uniform(-1, 1)\n",
        "        u_list.append(np.array([[u]]))\n",
        "\n",
        "    return u_list"
      ]
    },
    {
      "cell_type": "code",
      "execution_count": null,
      "metadata": {
        "id": "hhLUYaZpJH0J"
      },
      "outputs": [],
      "source": [
        "def add_car( image_data, start_column, start_row ): # Adds car to image data\n",
        "    color = .7 # Change color of the car body\n",
        "    total_col, total_row = image_data.shape\n",
        "    start_column = int(start_column)\n",
        "    start_row = int(start_row)\n",
        "\n",
        "    if start_row + 2 >= total_row:\n",
        "        start_row = 97\n",
        "\n",
        "    if start_row - 1 < 0:\n",
        "        start_row = 1\n",
        "\n",
        "    if start_column + 2 >= total_col:\n",
        "        start_column = 94\n",
        "\n",
        "    if start_column - 5 < 0:\n",
        "        start_column = 5\n",
        "\n",
        "    # Main body\n",
        "    image_data[start_row: start_row + 2, start_column - 5: start_column + 5] = color\n",
        "    image_data[start_row - 1, start_column - 3: start_column + 3] = color\n",
        "\n",
        "    # Wheels\n",
        "    image_data[start_row + 2, start_column - 3] = 1\n",
        "    image_data[start_row + 2, start_column + 2] = 1"
      ]
    },
    {
      "cell_type": "code",
      "source": [
        "def image_noise( image_data ):\n",
        "  for i in range(100):\n",
        "    for j in range(100):\n",
        "      image_data[i, j] += random.uniform(-.1, .1)"
      ],
      "metadata": {
        "id": "UFrdgIdA1Yna"
      },
      "execution_count": null,
      "outputs": []
    },
    {
      "cell_type": "code",
      "source": [
        "def road_noise( image_data ):\n",
        "  for i in range(35, 65):\n",
        "    for j in range(100):\n",
        "      image_data[i, j] += random.uniform(-.1, .1)"
      ],
      "metadata": {
        "id": "iknM8lXq1fxk"
      },
      "execution_count": null,
      "outputs": []
    },
    {
      "cell_type": "code",
      "source": [
        "def top_grass_noise( image_data ):\n",
        "  for i in range(35):\n",
        "    for j in range(100):\n",
        "      image_data[i, j] += random.uniform(-.1, .1)"
      ],
      "metadata": {
        "id": "QGGecFtv1pSp"
      },
      "execution_count": null,
      "outputs": []
    },
    {
      "cell_type": "code",
      "source": [
        "def bottom_grass_noise( image_data ):\n",
        "  for i in range(65, 100):\n",
        "    for j in range(100):\n",
        "      image_data[i, j] += random.uniform(-.1, .1)"
      ],
      "metadata": {
        "id": "5ydV2iTA1yDw"
      },
      "execution_count": null,
      "outputs": []
    },
    {
      "cell_type": "code",
      "execution_count": null,
      "metadata": {
        "id": "IN-DAy0qCWBJ"
      },
      "outputs": [],
      "source": [
        "def create_image():\n",
        "\n",
        "  M = np.zeros((100,100))\n",
        "  num_rows = np.shape(M)[0]\n",
        "  num_columns = np.shape(M)[1]\n",
        "\n",
        "  # create road and grass\n",
        "  M[:35] = 0.05\n",
        "  M[35: 65] = 0.3\n",
        "  M[65: ] = 0.05\n",
        "  for i in range(0, 100, 10):\n",
        "    M[49: 52, i: i + 5] = 0\n",
        "\n",
        "  # top rows\n",
        "  for i in range(0, num_rows):\n",
        "    M[0:3, i] = 0.4 * (random.randint(1, 2))\n",
        "\n",
        "  # bottom rows\n",
        "  for i in range(0, num_rows):\n",
        "    M[num_rows - 3: num_rows, i] = 0.4 * (random.randint(1, 2))\n",
        "\n",
        "  # left rows\n",
        "  for i in range(0, num_columns):\n",
        "    M[i, 0:3] = 0.4 * (random.randint(1, 2))\n",
        "\n",
        "  # right rows\n",
        "  for i in range(0, num_columns):\n",
        "    M[i, num_columns - 3: num_columns] = 0.4 * (random.randint(1, 2))\n",
        "\n",
        "  # random 7x7 blocks\n",
        "  block_row_start = random.choice([random.randint(0, 28), random.randint(65, 92)])\n",
        "  block_column_start = random.randint(0, 92)\n",
        "  M[block_row_start: block_row_start + 7, block_column_start: block_column_start + 7] = 0.8\n",
        "\n",
        "  # random trees\n",
        "  for i in range(random.randint(20, 30)):\n",
        "    block_row_start = random.choice([random.randint(0, 28), random.randint(65, 92)])\n",
        "    block_column_start = random.randint(0, 92)\n",
        "    M[block_row_start: block_row_start + 3, block_column_start: block_column_start + 3] = 0.1 * random.randint(3, 6)\n",
        "    M[block_row_start + 3: block_row_start + 5, block_column_start + 1] = .7\n",
        "\n",
        "  # sine pebbles\n",
        "  pebble_start = random.randint(0, 80)\n",
        "  for i in range(0, 100, 5):\n",
        "    M[int(pebble_start * np.sin(i)), i] = .1 * random.randint(4, 6)\n",
        "\n",
        "  return M"
      ]
    },
    {
      "cell_type": "code",
      "source": [
        "image_data = create_image()\n",
        "image_noise(image_data)\n",
        "plt.imshow(image_data, cmap='Greys')"
      ],
      "metadata": {
        "colab": {
          "base_uri": "https://localhost:8080/",
          "height": 451
        },
        "id": "3-Mv0mJV2bwx",
        "outputId": "213d1dc0-60d8-4b66-f2d5-4f5ed27b0a57"
      },
      "execution_count": null,
      "outputs": [
        {
          "output_type": "execute_result",
          "data": {
            "text/plain": [
              "<matplotlib.image.AxesImage at 0x7d96ffd08c10>"
            ]
          },
          "metadata": {},
          "execution_count": 18
        },
        {
          "output_type": "display_data",
          "data": {
            "text/plain": [
              "<Figure size 640x480 with 1 Axes>"
            ],
            "image/png": "[encoded data removed]"
          },
          "metadata": {}
        }
      ]
    },
    {
      "cell_type": "code",
      "execution_count": null,
      "metadata": {
        "id": "FPMcQXVRL9b7"
      },
      "outputs": [],
      "source": [
        "# save as numpy array\n",
        "# we need at least 100,000 images\n",
        "# save the list as a pickle\n",
        "# randomized image, but car's path has meaning\n",
        "\n",
        "def generate_image_set( x_data ):\n",
        "    file_name = \"/content/car_images/Car{}.png\"\n",
        "    image_data = create_image()\n",
        "    image_list = []\n",
        "\n",
        "    for i in range(len(x_data)):\n",
        "\n",
        "      image_data = create_image()\n",
        "      temp_image = np.copy(image_data)\n",
        "\n",
        "      car_column = int(x_data[i][0])\n",
        "      car_row = random.randint(40, 60)\n",
        "      add_car(temp_image, car_column, car_row)\n",
        "      image_list.append(temp_image)\n",
        "\n",
        "    return image_list\n",
        "\n",
        "      # im = plt.imshow(temp_image, cmap='Greys')\n",
        "      # plt.savefig(file_name.replace(\"{}\", str(i)))"
      ]
    },
    {
      "cell_type": "code",
      "execution_count": null,
      "metadata": {
        "colab": {
          "base_uri": "https://localhost:8080/",
          "height": 451
        },
        "id": "r2G-TYGntCvi",
        "outputId": "ff833ecb-0d40-4623-9dd6-1fe81cd1feb5"
      },
      "outputs": [
        {
          "output_type": "execute_result",
          "data": {
            "text/plain": [
              "<matplotlib.image.AxesImage at 0x7f00ecc7a470>"
            ]
          },
          "metadata": {},
          "execution_count": 9
        },
        {
          "output_type": "display_data",
          "data": {
            "text/plain": [
              "<Figure size 640x480 with 1 Axes>"
            ],
            "image/png": "[encoded data removed]"
          },
          "metadata": {}
        }
      ],
      "source": [
        "list_position = [np.array([[1.],[1.]]), np.array([[10.],[1.]]), np.array([[50.],[1.]])]\n",
        "set1 = generate_image_set(list_position)\n",
        "plt.imshow(set1[2])"
      ]
    },
    {
      "cell_type": "code",
      "execution_count": null,
      "metadata": {
        "colab": {
          "base_uri": "https://localhost:8080/",
          "height": 451
        },
        "id": "ugm2Zc1RHm7_",
        "outputId": "3c16e4ac-41ce-4a82-f7e6-02a6a853bce3"
      },
      "outputs": [
        {
          "output_type": "stream",
          "name": "stdout",
          "text": [
            "Total Images: 500\n"
          ]
        },
        {
          "output_type": "display_data",
          "data": {
            "text/plain": [
              "<Figure size 640x480 with 1 Axes>"
            ],
            "image/png": "[encoded data removed]"
          },
          "metadata": {}
        }
      ],
      "source": [
        "#times = 99\n",
        "#total_image_factor = 100\n",
        "times = 49\n",
        "total_image_factor = 10\n",
        "u_list = create_u_list(times)\n",
        "x_t1 = np.array([[0.],[1.]])\n",
        "x_data = []\n",
        "\n",
        "for i in range(total_image_factor):\n",
        "  collect_data(x_t1, u_list, times, x_data)\n",
        "  x_t1 = x_data[-1]\n",
        "\n",
        "image_list = generate_image_set(x_data)\n",
        "im = plt.imshow(image_list[-1], cmap='Greys')\n",
        "print(f\"Total Images: {len(image_list)}\")\n",
        "plt.show()\n",
        "#image_data = create_image()"
      ]
    },
    {
      "cell_type": "code",
      "execution_count": null,
      "metadata": {
        "colab": {
          "base_uri": "https://localhost:8080/",
          "height": 502
        },
        "id": "nfDDaTFIaqgv",
        "outputId": "6299c779-0712-4119-9e8a-04d2ee36db21"
      },
      "outputs": [
        {
          "name": "stdout",
          "output_type": "stream",
          "text": [
            "Arrays pickled.\n",
            "\n",
            "Arrays unpickled:\n",
            "Total Images: 500\n"
          ]
        },
        {
          "data": {
            "image/png": "[encoded data removed]",
            "text/plain": [
              "<Figure size 640x480 with 1 Axes>"
            ]
          },
          "metadata": {},
          "output_type": "display_data"
        }
      ],
      "source": [
        "with open('arrays.pkl', 'wb') as f:\n",
        "    pickle.dump(image_list, f)\n",
        "\n",
        "print(\"Arrays pickled.\")\n",
        "\n",
        "with open('arrays.pkl', 'rb') as f:\n",
        "    image_list = pickle.load(f)\n",
        "\n",
        "print(\"\\nArrays unpickled:\")\n",
        "im = plt.imshow(image_list[-1], cmap='Greys')\n",
        "print(f\"Total Images: {len(image_list)}\")\n",
        "plt.show()"
      ]
    },
    {
      "cell_type": "code",
      "execution_count": null,
      "metadata": {
        "colab": {
          "base_uri": "https://localhost:8080/"
        },
        "id": "DGQO0V4vbN_Y",
        "outputId": "ea626e63-2c11-486c-fc79-4ed1f595f281"
      },
      "outputs": [
        {
          "output_type": "stream",
          "name": "stdout",
          "text": [
            "425\n",
            "425\n",
            "75\n",
            "75\n"
          ]
        }
      ],
      "source": [
        "from sklearn.model_selection import train_test_split\n",
        "\n",
        "#print(x_data)\n",
        "(trainX, testX, trainY, testY) = train_test_split(image_list, x_data, test_size=.15, random_state=42)\n",
        "print(len(trainX))\n",
        "print(len(trainY))\n",
        "print(len(testX))\n",
        "print(len(testY))"
      ]
    },
    {
      "cell_type": "code",
      "execution_count": null,
      "metadata": {
        "colab": {
          "base_uri": "https://localhost:8080/"
        },
        "id": "FQSnL31DHq2B",
        "outputId": "40534252-d3f8-438d-8440-85c5cc73c6ad"
      },
      "outputs": [
        {
          "output_type": "stream",
          "name": "stdout",
          "text": [
            "(425, 100, 100)\n",
            "(425, 2, 1)\n",
            "(75, 100, 100)\n",
            "(75, 2, 1)\n",
            "<class 'numpy.ndarray'>\n"
          ]
        }
      ],
      "source": [
        "trainX = np.array(trainX)\n",
        "trainY = np.array(trainY)\n",
        "testX = np.array(testX)\n",
        "testY = np.array(testY)\n",
        "print(trainX.shape)\n",
        "print(trainY.shape)\n",
        "print(testX.shape)\n",
        "print(testY.shape)\n",
        "print(type(trainY))"
      ]
    },
    {
      "cell_type": "code",
      "execution_count": null,
      "metadata": {
        "id": "Ylf3F-HUpUvu"
      },
      "outputs": [],
      "source": [
        "#trainX = trainX.reshape(8500, 100, 100, 1)\n",
        "#testX = testX.reshape(1500, 100, 100, 1)\n",
        "trainX = trainX.reshape(425, 100, 100, 1)\n",
        "testX = testX.reshape(75, 100, 100, 1)"
      ]
    },
    {
      "cell_type": "code",
      "execution_count": null,
      "metadata": {
        "colab": {
          "base_uri": "https://localhost:8080/"
        },
        "id": "PQEL4F2Irwfn",
        "outputId": "13e213f1-22c1-40c4-cb01-76f6b510f68d"
      },
      "outputs": [
        {
          "output_type": "stream",
          "name": "stdout",
          "text": [
            "(425, 2, 1)\n",
            "(425,)\n",
            "(75, 2, 1)\n",
            "(75,)\n"
          ]
        }
      ],
      "source": [
        "tmpY = np.zeros(trainY.shape[0])\n",
        "print(trainY.shape)\n",
        "for i in range(trainY.shape[0]):\n",
        "  tmpY[i] = trainY[i][0]\n",
        "trainY = tmpY\n",
        "print(trainY.shape)\n",
        "\n",
        "tmpY = np.zeros(testY.shape[0])\n",
        "print(testY.shape)\n",
        "for i in range(testY.shape[0]):\n",
        "  tmpY[i] = testY[i][0]\n",
        "testY = tmpY\n",
        "print(testY.shape)"
      ]
    },
    {
      "cell_type": "code",
      "execution_count": null,
      "metadata": {
        "colab": {
          "base_uri": "https://localhost:8080/",
          "height": 433
        },
        "id": "6UP0taUOcl0X",
        "outputId": "07420dbb-7565-4109-cdfc-0c8e24cc7647"
      },
      "outputs": [
        {
          "output_type": "display_data",
          "data": {
            "text/plain": [
              "<Figure size 640x480 with 1 Axes>"
            ],
            "image/png": "[encoded data removed]"
          },
          "metadata": {}
        }
      ],
      "source": [
        "%matplotlib inline\n",
        "plt.figure()\n",
        "plt.imshow(trainX[2], cmap=\"Greys\")\n",
        "plt.grid(False)\n",
        "plt.show()"
      ]
    },
    {
      "cell_type": "code",
      "execution_count": null,
      "metadata": {
        "id": "f2b-COU9cyU5"
      },
      "outputs": [],
      "source": [
        "import tensorflow as tf\n",
        "import keras\n",
        "from keras import layers\n",
        "from keras.models import Sequential\n",
        "from keras.layers import Dense, Conv2D, Flatten, Activation, MaxPooling2D, SeparableConv2D\n",
        "\n",
        "def cnn():\n",
        "    #reshape data to fit model\n",
        "\n",
        "    #create model\n",
        "    model = Sequential()\n",
        "    inputShape = (100, 100, 1)\n",
        "\n",
        "    #add model layers\n",
        "    model.add(Conv2D(64, kernel_size=3, activation = \"relu\", input_shape=inputShape))\n",
        "    model.add(MaxPooling2D(pool_size=(4, 4)))\n",
        "    model.add(Activation(\"relu\"))\n",
        "\n",
        "    model.add(SeparableConv2D(32, (3, 3), padding=\"same\"))\n",
        "    model.add(Activation(\"relu\"))\n",
        "    model.add(MaxPooling2D(pool_size=(2, 2)))\n",
        "\n",
        "    model.add(Conv2D(64, kernel_size=3, activation=\"relu\"))\n",
        "    model.add(MaxPooling2D(pool_size=(4, 4)))\n",
        "    model.add(Activation(\"relu\"))\n",
        "    model.add(Flatten())\n",
        "\n",
        "    model.add(Dense(1, activation=\"softmax\"))\n",
        "\n",
        "    return model"
      ]
    },
    {
      "cell_type": "code",
      "execution_count": null,
      "metadata": {
        "colab": {
          "base_uri": "https://localhost:8080/"
        },
        "id": "UvGsXJp9N9KI",
        "outputId": "dfa5bb15-15c3-4eef-de7a-7524bb6d6f0b"
      },
      "outputs": [
        {
          "output_type": "stream",
          "name": "stdout",
          "text": [
            "Epoch 1/100\n",
            "14/14 [==============================] - 8s 510ms/step - loss: 911.9194 - val_loss: 731.5312\n",
            "Epoch 2/100\n",
            "14/14 [==============================] - 6s 415ms/step - loss: 678.3568 - val_loss: 662.8211\n",
            "Epoch 3/100\n",
            "14/14 [==============================] - 7s 484ms/step - loss: 556.5936 - val_loss: 651.6682\n",
            "Epoch 4/100\n",
            "14/14 [==============================] - 6s 427ms/step - loss: 522.3793 - val_loss: 596.7011\n",
            "Epoch 5/100\n",
            "14/14 [==============================] - 7s 495ms/step - loss: 475.3529 - val_loss: 547.5109\n",
            "Epoch 6/100\n",
            "14/14 [==============================] - 6s 431ms/step - loss: 401.1208 - val_loss: 473.5575\n",
            "Epoch 7/100\n",
            "14/14 [==============================] - 7s 497ms/step - loss: 280.9180 - val_loss: 316.0857\n",
            "Epoch 8/100\n",
            "14/14 [==============================] - 6s 430ms/step - loss: 154.3043 - val_loss: 222.3183\n",
            "Epoch 9/100\n",
            "14/14 [==============================] - 9s 644ms/step - loss: 104.7972 - val_loss: 146.6438\n",
            "Epoch 10/100\n",
            "14/14 [==============================] - 6s 422ms/step - loss: 65.6469 - val_loss: 130.6237\n",
            "Epoch 11/100\n",
            "14/14 [==============================] - 7s 532ms/step - loss: 49.0849 - val_loss: 105.1355\n",
            "Epoch 12/100\n",
            "14/14 [==============================] - 6s 410ms/step - loss: 37.2111 - val_loss: 104.4744\n",
            "Epoch 13/100\n",
            "14/14 [==============================] - 7s 524ms/step - loss: 34.5461 - val_loss: 90.3206\n",
            "Epoch 14/100\n",
            "14/14 [==============================] - 6s 410ms/step - loss: 29.2731 - val_loss: 75.0742\n",
            "Epoch 15/100\n",
            "14/14 [==============================] - 7s 530ms/step - loss: 21.9282 - val_loss: 65.4663\n",
            "Epoch 16/100\n",
            "14/14 [==============================] - 6s 422ms/step - loss: 20.9017 - val_loss: 61.3095\n",
            "Epoch 17/100\n",
            "14/14 [==============================] - 9s 632ms/step - loss: 17.3204 - val_loss: 57.2146\n",
            "Epoch 18/100\n",
            "14/14 [==============================] - 6s 415ms/step - loss: 15.6766 - val_loss: 64.3111\n",
            "Epoch 19/100\n",
            "14/14 [==============================] - 7s 514ms/step - loss: 19.3236 - val_loss: 54.0968\n",
            "Epoch 20/100\n",
            "14/14 [==============================] - 6s 412ms/step - loss: 11.8279 - val_loss: 52.4519\n",
            "Epoch 21/100\n",
            "14/14 [==============================] - 7s 508ms/step - loss: 14.3135 - val_loss: 48.3426\n",
            "Epoch 22/100\n",
            "14/14 [==============================] - 6s 411ms/step - loss: 14.0760 - val_loss: 50.5148\n",
            "Epoch 23/100\n",
            "14/14 [==============================] - 7s 527ms/step - loss: 10.7540 - val_loss: 42.7268\n",
            "Epoch 24/100\n",
            "14/14 [==============================] - 6s 406ms/step - loss: 7.7545 - val_loss: 42.4277\n",
            "Epoch 25/100\n",
            "14/14 [==============================] - 7s 511ms/step - loss: 7.5774 - val_loss: 43.9180\n",
            "Epoch 26/100\n",
            "14/14 [==============================] - 6s 402ms/step - loss: 7.1802 - val_loss: 41.5698\n",
            "Epoch 27/100\n",
            "14/14 [==============================] - 7s 516ms/step - loss: 6.6293 - val_loss: 39.5981\n",
            "Epoch 28/100\n",
            "14/14 [==============================] - 6s 410ms/step - loss: 6.5807 - val_loss: 38.4398\n",
            "Epoch 29/100\n",
            "14/14 [==============================] - 7s 509ms/step - loss: 4.9500 - val_loss: 38.6828\n",
            "Epoch 30/100\n",
            "14/14 [==============================] - 6s 408ms/step - loss: 4.9785 - val_loss: 37.3378\n",
            "Epoch 31/100\n",
            "14/14 [==============================] - 7s 511ms/step - loss: 4.1485 - val_loss: 36.8969\n",
            "Epoch 32/100\n",
            "14/14 [==============================] - 6s 406ms/step - loss: 5.1532 - val_loss: 35.7379\n",
            "Epoch 33/100\n",
            "14/14 [==============================] - 7s 513ms/step - loss: 5.4586 - val_loss: 38.4538\n",
            "Epoch 34/100\n",
            "14/14 [==============================] - 6s 425ms/step - loss: 4.8057 - val_loss: 42.5950\n",
            "Epoch 35/100\n",
            "14/14 [==============================] - 7s 533ms/step - loss: 4.0537 - val_loss: 35.8107\n",
            "Epoch 36/100\n",
            "14/14 [==============================] - 6s 412ms/step - loss: 2.7771 - val_loss: 34.4390\n",
            "Epoch 37/100\n",
            "14/14 [==============================] - 7s 528ms/step - loss: 2.5624 - val_loss: 35.1521\n",
            "Epoch 38/100\n",
            "14/14 [==============================] - 7s 537ms/step - loss: 3.0069 - val_loss: 34.0291\n",
            "Epoch 39/100\n",
            "14/14 [==============================] - 7s 527ms/step - loss: 3.0512 - val_loss: 34.8883\n",
            "Epoch 40/100\n",
            "14/14 [==============================] - 6s 416ms/step - loss: 2.2666 - val_loss: 32.3736\n",
            "Epoch 41/100\n",
            "14/14 [==============================] - 7s 523ms/step - loss: 1.6738 - val_loss: 32.4820\n",
            "Epoch 42/100\n",
            "14/14 [==============================] - 6s 416ms/step - loss: 2.0186 - val_loss: 31.4663\n",
            "Epoch 43/100\n",
            "14/14 [==============================] - 7s 512ms/step - loss: 1.7339 - val_loss: 32.0142\n",
            "Epoch 44/100\n",
            "14/14 [==============================] - 6s 422ms/step - loss: 1.6005 - val_loss: 30.6141\n",
            "Epoch 45/100\n",
            "14/14 [==============================] - 7s 523ms/step - loss: 1.4375 - val_loss: 31.6686\n",
            "Epoch 46/100\n",
            "14/14 [==============================] - 6s 418ms/step - loss: 1.1953 - val_loss: 31.3542\n",
            "Epoch 47/100\n",
            "14/14 [==============================] - 7s 529ms/step - loss: 1.2006 - val_loss: 30.7155\n",
            "Epoch 48/100\n",
            "14/14 [==============================] - 6s 412ms/step - loss: 0.9633 - val_loss: 30.7457\n",
            "Epoch 49/100\n",
            "14/14 [==============================] - 7s 527ms/step - loss: 0.8876 - val_loss: 31.1914\n",
            "Epoch 50/100\n",
            "14/14 [==============================] - 6s 420ms/step - loss: 1.1333 - val_loss: 31.2897\n",
            "Epoch 51/100\n",
            "14/14 [==============================] - 7s 523ms/step - loss: 0.8055 - val_loss: 30.0926\n",
            "Epoch 52/100\n",
            "14/14 [==============================] - 6s 426ms/step - loss: 0.7708 - val_loss: 29.7952\n",
            "Epoch 53/100\n",
            "14/14 [==============================] - 7s 534ms/step - loss: 0.8806 - val_loss: 30.2763\n",
            "Epoch 54/100\n",
            "14/14 [==============================] - 6s 418ms/step - loss: 0.6484 - val_loss: 30.8437\n",
            "Epoch 55/100\n",
            "14/14 [==============================] - 7s 524ms/step - loss: 1.1173 - val_loss: 30.4724\n",
            "Epoch 56/100\n",
            "14/14 [==============================] - 6s 428ms/step - loss: 1.1341 - val_loss: 29.8665\n",
            "Epoch 57/100\n",
            "14/14 [==============================] - 7s 518ms/step - loss: 1.1928 - val_loss: 30.4237\n",
            "Epoch 58/100\n",
            "14/14 [==============================] - 6s 414ms/step - loss: 1.0848 - val_loss: 29.6373\n",
            "Epoch 59/100\n",
            "14/14 [==============================] - 8s 586ms/step - loss: 0.6784 - val_loss: 30.3900\n",
            "Epoch 60/100\n",
            "14/14 [==============================] - 7s 441ms/step - loss: 0.6710 - val_loss: 30.1070\n",
            "Epoch 61/100\n",
            "14/14 [==============================] - 7s 528ms/step - loss: 0.4826 - val_loss: 29.0137\n",
            "Epoch 62/100\n",
            "14/14 [==============================] - 6s 429ms/step - loss: 0.3700 - val_loss: 29.0655\n",
            "Epoch 63/100\n",
            "14/14 [==============================] - 7s 529ms/step - loss: 0.3639 - val_loss: 29.8857\n",
            "Epoch 64/100\n",
            "14/14 [==============================] - 10s 757ms/step - loss: 0.6480 - val_loss: 29.1135\n",
            "Epoch 65/100\n",
            "14/14 [==============================] - 9s 682ms/step - loss: 0.8484 - val_loss: 29.6722\n",
            "Epoch 66/100\n",
            "14/14 [==============================] - 10s 723ms/step - loss: 0.4255 - val_loss: 28.5811\n",
            "Epoch 67/100\n",
            "14/14 [==============================] - 7s 527ms/step - loss: 0.4451 - val_loss: 28.5656\n",
            "Epoch 68/100\n",
            "14/14 [==============================] - 6s 404ms/step - loss: 0.3218 - val_loss: 28.4255\n",
            "Epoch 69/100\n",
            "14/14 [==============================] - 7s 509ms/step - loss: 0.2151 - val_loss: 28.5312\n",
            "Epoch 70/100\n",
            "14/14 [==============================] - 6s 412ms/step - loss: 0.1497 - val_loss: 28.7417\n",
            "Epoch 71/100\n",
            "14/14 [==============================] - 7s 502ms/step - loss: 0.1719 - val_loss: 28.6569\n",
            "Epoch 72/100\n",
            "14/14 [==============================] - 6s 415ms/step - loss: 0.1248 - val_loss: 28.4241\n",
            "Epoch 73/100\n",
            "14/14 [==============================] - 7s 498ms/step - loss: 0.1053 - val_loss: 28.4816\n",
            "Epoch 74/100\n",
            "14/14 [==============================] - 6s 403ms/step - loss: 0.1092 - val_loss: 28.4297\n",
            "Epoch 75/100\n",
            "14/14 [==============================] - 7s 484ms/step - loss: 0.1101 - val_loss: 28.2731\n",
            "Epoch 76/100\n",
            "14/14 [==============================] - 6s 428ms/step - loss: 0.1032 - val_loss: 28.1977\n",
            "Epoch 77/100\n",
            "14/14 [==============================] - 7s 470ms/step - loss: 0.1093 - val_loss: 28.4141\n",
            "Epoch 78/100\n",
            "14/14 [==============================] - 6s 412ms/step - loss: 0.0801 - val_loss: 28.1829\n",
            "Epoch 79/100\n",
            "14/14 [==============================] - 6s 433ms/step - loss: 0.0717 - val_loss: 28.1054\n",
            "Epoch 80/100\n",
            "14/14 [==============================] - 8s 557ms/step - loss: 0.0637 - val_loss: 28.1902\n",
            "Epoch 81/100\n",
            "14/14 [==============================] - 6s 409ms/step - loss: 0.0725 - val_loss: 28.0140\n",
            "Epoch 82/100\n",
            "14/14 [==============================] - 8s 520ms/step - loss: 0.0663 - val_loss: 28.1233\n",
            "Epoch 83/100\n",
            "14/14 [==============================] - 6s 425ms/step - loss: 0.0543 - val_loss: 28.1543\n",
            "Epoch 84/100\n",
            "14/14 [==============================] - 7s 471ms/step - loss: 0.0442 - val_loss: 27.9295\n",
            "Epoch 85/100\n",
            "14/14 [==============================] - 6s 396ms/step - loss: 0.0377 - val_loss: 27.6663\n",
            "Epoch 86/100\n",
            "14/14 [==============================] - 7s 506ms/step - loss: 0.0809 - val_loss: 28.3209\n",
            "Epoch 87/100\n",
            "14/14 [==============================] - 6s 397ms/step - loss: 0.0419 - val_loss: 27.7411\n",
            "Epoch 88/100\n",
            "14/14 [==============================] - 7s 513ms/step - loss: 0.0333 - val_loss: 27.9279\n",
            "Epoch 89/100\n",
            "14/14 [==============================] - 6s 420ms/step - loss: 0.0304 - val_loss: 27.6615\n",
            "Epoch 90/100\n",
            "14/14 [==============================] - 7s 513ms/step - loss: 0.0478 - val_loss: 27.6840\n",
            "Epoch 91/100\n",
            "14/14 [==============================] - 6s 418ms/step - loss: 0.0445 - val_loss: 27.5514\n",
            "Epoch 92/100\n",
            "14/14 [==============================] - 7s 511ms/step - loss: 0.0480 - val_loss: 27.7890\n",
            "Epoch 93/100\n",
            "14/14 [==============================] - 6s 445ms/step - loss: 0.0523 - val_loss: 27.7356\n",
            "Epoch 94/100\n",
            "14/14 [==============================] - 7s 519ms/step - loss: 0.0605 - val_loss: 27.3922\n",
            "Epoch 95/100\n",
            "14/14 [==============================] - 6s 407ms/step - loss: 0.0540 - val_loss: 27.6552\n",
            "Epoch 96/100\n",
            "14/14 [==============================] - 7s 513ms/step - loss: 0.1035 - val_loss: 28.1900\n",
            "Epoch 97/100\n",
            "14/14 [==============================] - 6s 401ms/step - loss: 0.1203 - val_loss: 27.4915\n",
            "Epoch 98/100\n",
            "14/14 [==============================] - 7s 526ms/step - loss: 0.0535 - val_loss: 27.2046\n",
            "Epoch 99/100\n",
            "14/14 [==============================] - 6s 407ms/step - loss: 0.0533 - val_loss: 27.4919\n",
            "Epoch 100/100\n",
            "14/14 [==============================] - 7s 530ms/step - loss: 0.0685 - val_loss: 27.7535\n"
          ]
        }
      ],
      "source": [
        "def cnn_regression():\n",
        "    # create model\n",
        "    model = Sequential()\n",
        "    inputShape = (100, 100, 1)\n",
        "\n",
        "    # add model layers\n",
        "    model.add(Conv2D(32, kernel_size= 3, activation=\"relu\", input_shape=inputShape))\n",
        "    model.add(MaxPooling2D(pool_size=(2, 2)))\n",
        "    model.add(Conv2D(64, kernel_size= 3, activation=\"relu\"))\n",
        "    model.add(MaxPooling2D(pool_size=(2, 2)))\n",
        "    model.add(Flatten())\n",
        "\n",
        "    # Output layer for regression with a single unit and linear activation\n",
        "    model.add(Dense(1, activation='linear'))\n",
        "\n",
        "    return model\n",
        "\n",
        "model = cnn_regression()\n",
        "NUM_EPOCHS = 100\n",
        "\n",
        "model.compile(optimizer='adam', loss='mean_squared_error')\n",
        "\n",
        "# Implement early stopping based on validation loss.\n",
        "early_stopping = keras.callbacks.EarlyStopping(\n",
        "    monitor='val_loss',\n",
        "    patience=10,\n",
        "    restore_best_weights=True\n",
        ")\n",
        "\n",
        "H = model.fit(trainX, trainY, validation_data=(testX, testY), epochs=NUM_EPOCHS, callbacks=[early_stopping])"
      ]
    },
    {
      "cell_type": "code",
      "source": [
        "model.save(\"/content/FSRImodel1.h5\")\n",
        "print(\"Saved model to drive\")"
      ],
      "metadata": {
        "colab": {
          "base_uri": "https://localhost:8080/"
        },
        "id": "W_H5EtHrpY2n",
        "outputId": "b4888999-8a88-4dc4-f1bc-2a3c39860524"
      },
      "execution_count": null,
      "outputs": [
        {
          "output_type": "stream",
          "name": "stdout",
          "text": [
            "Saved model to drive\n"
          ]
        }
      ]
    },
    {
      "cell_type": "code",
      "execution_count": null,
      "metadata": {
        "colab": {
          "base_uri": "https://localhost:8080/"
        },
        "id": "xpsiVggd087K",
        "outputId": "33c21b2a-5e53-46bb-c31a-97070a2c0d36"
      },
      "outputs": [
        {
          "output_type": "stream",
          "name": "stdout",
          "text": [
            "Model: \"sequential_2\"\n",
            "_________________________________________________________________\n",
            " Layer (type)                Output Shape              Param #   \n",
            "=================================================================\n",
            " conv2d_4 (Conv2D)           (None, 98, 98, 32)        320       \n",
            "                                                                 \n",
            " max_pooling2d_5 (MaxPooling  (None, 49, 49, 32)       0         \n",
            " 2D)                                                             \n",
            "                                                                 \n",
            " conv2d_5 (Conv2D)           (None, 47, 47, 64)        18496     \n",
            "                                                                 \n",
            " max_pooling2d_6 (MaxPooling  (None, 23, 23, 64)       0         \n",
            " 2D)                                                             \n",
            "                                                                 \n",
            " flatten_2 (Flatten)         (None, 33856)             0         \n",
            "                                                                 \n",
            " dense_2 (Dense)             (None, 1)                 33857     \n",
            "                                                                 \n",
            "=================================================================\n",
            "Total params: 52,673\n",
            "Trainable params: 52,673\n",
            "Non-trainable params: 0\n",
            "_________________________________________________________________\n"
          ]
        }
      ],
      "source": [
        "model.summary()"
      ]
    },
    {
      "cell_type": "code",
      "source": [
        "img = testX[0]\n",
        "%matplotlib inline\n",
        "plt.figure()\n",
        "plt.imshow(testX[0], cmap=\"Greys\")\n",
        "plt.grid(False)\n",
        "plt.show()\n",
        "print(model.predict(np.expand_dims(img, axis=0)))\n",
        "print(testY[0])"
      ],
      "metadata": {
        "colab": {
          "base_uri": "https://localhost:8080/",
          "height": 487
        },
        "id": "78Ary9Itp-bt",
        "outputId": "91fe5338-6089-4022-866a-1ae899255b24"
      },
      "execution_count": null,
      "outputs": [
        {
          "output_type": "display_data",
          "data": {
            "text/plain": [
              "<Figure size 640x480 with 1 Axes>"
            ],
            "image/png": "[encoded data removed]"
          },
          "metadata": {}
        },
        {
          "output_type": "stream",
          "name": "stdout",
          "text": [
            "1/1 [==============================] - 0s 81ms/step\n",
            "[[26.81708]]\n",
            "27.006158756269635\n"
          ]
        }
      ]
    },
    {
      "cell_type": "code",
      "execution_count": null,
      "metadata": {
        "colab": {
          "base_uri": "https://localhost:8080/"
        },
        "id": "fswbKZJAGvzZ",
        "outputId": "92df9782-1958-4f58-f3a0-40347bf3e5fc"
      },
      "outputs": [
        {
          "output_type": "stream",
          "name": "stdout",
          "text": [
            "Epoch 1/50\n",
            "14/14 [==============================] - 7s 423ms/step - loss: 1647.8420 - val_loss: 1834.5463\n",
            "Epoch 2/50\n",
            "14/14 [==============================] - 4s 317ms/step - loss: 1647.8420 - val_loss: 1834.5463\n",
            "Epoch 3/50\n",
            "14/14 [==============================] - 4s 313ms/step - loss: 1647.8422 - val_loss: 1834.5463\n",
            "Epoch 4/50\n",
            "14/14 [==============================] - 6s 419ms/step - loss: 1647.8420 - val_loss: 1834.5463\n",
            "Epoch 5/50\n",
            "14/14 [==============================] - 4s 314ms/step - loss: 1647.8422 - val_loss: 1834.5463\n",
            "Epoch 6/50\n",
            "14/14 [==============================] - 5s 371ms/step - loss: 1647.8419 - val_loss: 1834.5463\n",
            "Epoch 7/50\n",
            "14/14 [==============================] - 5s 339ms/step - loss: 1647.8422 - val_loss: 1834.5463\n",
            "Epoch 8/50\n",
            "14/14 [==============================] - 4s 313ms/step - loss: 1647.8420 - val_loss: 1834.5463\n",
            "Epoch 9/50\n",
            "14/14 [==============================] - 6s 421ms/step - loss: 1647.8422 - val_loss: 1834.5463\n",
            "Epoch 10/50\n",
            "14/14 [==============================] - 4s 312ms/step - loss: 1647.8422 - val_loss: 1834.5463\n",
            "Epoch 11/50\n",
            "14/14 [==============================] - 4s 308ms/step - loss: 1647.8424 - val_loss: 1834.5463\n"
          ]
        }
      ],
      "source": [
        "model = cnn()\n",
        "NUM_EPOCHS = 50\n",
        "\n",
        "# optimizer = keras.optimizers.Adam(learning_rate=0.1)\n",
        "model.compile(optimizer='adam',loss='mean_squared_error')\n",
        "\n",
        "trainX = (trainX - trainX.mean()) / trainX.std()\n",
        "testX = (testX - testX.mean()) / testX.std()\n",
        "#model.fit(trainX,trainY)\n",
        "\n",
        "# Implement early stopping based on validation loss.\n",
        "early_stopping = keras.callbacks.EarlyStopping(\n",
        "    monitor='val_loss',\n",
        "    patience=10,  # Adjust this based on your training needs.\n",
        "    restore_best_weights=True\n",
        ")\n",
        "\n",
        "H = model.fit(trainX, trainY, validation_data=(testX, testY), epochs=NUM_EPOCHS, callbacks=[early_stopping])\n",
        "# H = model.fit(trainX, trainY, validation_data=(np.array(testX), np.array(testY)), epochs=NUM_EPOCHS)\n",
        "\n",
        "#model.fit(train_data, epochs=10, validation_data=valid_data)"
      ]
    },
    {
      "cell_type": "code",
      "source": [
        "from keras.models import load_model\n",
        "model = load_model('FSRImodel1.h5')"
      ],
      "metadata": {
        "id": "gCMjvMsB7lLy"
      },
      "execution_count": null,
      "outputs": []
    },
    {
      "cell_type": "code",
      "source": [],
      "metadata": {
        "id": "NENCaFj67p23"
      },
      "execution_count": null,
      "outputs": []
    },
    {
      "cell_type": "code",
      "execution_count": null,
      "metadata": {
        "colab": {
          "base_uri": "https://localhost:8080/",
          "height": 451
        },
        "id": "J3sUmQkUCkLE",
        "outputId": "375b4f73-ab70-48f7-ed4c-9af0a8e43ce1"
      },
      "outputs": [
        {
          "data": {
            "image/png": "[encoded data removed]",
            "text/plain": [
              "<Figure size 640x480 with 1 Axes>"
            ]
          },
          "metadata": {},
          "output_type": "display_data"
        },
        {
          "data": {
            "text/plain": [
              "<Figure size 640x480 with 0 Axes>"
            ]
          },
          "metadata": {},
          "output_type": "display_data"
        }
      ],
      "source": [
        "# --------------- Testing ----------------\n",
        "x_final_t = x_data[-1]\n",
        "image_data = create_image(x_final_t)\n",
        "\n",
        "# place car\n",
        "car_column = int(x_final_t[0])\n",
        "car_row = random.randint(40, 60)\n",
        "add_car(image_data, car_column, car_row)\n",
        "# show_image(image_data)\n",
        "im = plt.imshow(image_data, cmap='Greys')\n",
        "plt.savefig(\"yes.png\")\n",
        "plt.show()\n",
        "# ----------------------------------------"
      ]
    },
    {
      "cell_type": "code",
      "execution_count": null,
      "metadata": {
        "id": "3HLasUQPUC1L"
      },
      "outputs": [],
      "source": [
        "def cnn():\n",
        "\n",
        "\n",
        "\n",
        "\n"
      ]
    },
    {
      "cell_type": "code",
      "execution_count": null,
      "metadata": {
        "id": "X1z9SpgpxN7G"
      },
      "outputs": [],
      "source": [
        "def create_pixelated_image(x_final_t): # I'm assuming x_final_t is a 2x1 matrix\n",
        "  M = np.zeros((100,100))\n",
        "  num_rows = np.shape(M)[0]\n",
        "  num_columns = np.shape(M)[1]\n",
        "\n",
        "  #splitting rows\n",
        "  for i in range(4, 50):\n",
        "    M[i, i - 1] = 1\n",
        "\n",
        "  j = 50\n",
        "  while j >= 4:\n",
        "    for i in range(46, 75):\n",
        "      M[i, j] = 1\n",
        "      j -= 1\n",
        "\n",
        "  #j = 67\n",
        "  #while j <= 80:\n",
        "    #for i in range(20, 40):\n",
        "      #M[i, j] = 1\n",
        "      #j += 1\n",
        "\n",
        "  M[73, 22:] = 1\n",
        "  # top rows\n",
        "  for i in range(0, num_rows):\n",
        "    M[0:3, i] = 0.4 * (random.randint(1, 2))\n",
        "\n",
        "  # bottom rows\n",
        "  for i in range(0, num_rows):\n",
        "    M[num_rows - 3: num_rows, i] = 0.4 * (random.randint(1, 2))\n",
        "\n",
        "  # left rows\n",
        "  for i in range(0, num_columns):\n",
        "    M[i, 0:3] = 0.4 * (random.randint(1, 2))\n",
        "\n",
        "  # right rows\n",
        "  for i in range(0, num_columns):\n",
        "    M[i, num_columns - 3: num_columns] = 0.4 * (random.randint(1, 2))\n",
        "\n",
        "  # block of sun in the right corner\n",
        "  for i in range(3, 11):\n",
        "    M[i, num_columns - 13: num_columns - 4] = 0.4\n",
        "\n",
        "  add_car(M, x_final_t[0], 80)\n",
        "\n",
        "  return M"
      ]
    },
    {
      "cell_type": "code",
      "execution_count": null,
      "metadata": {
        "colab": {
          "base_uri": "https://localhost:8080/",
          "height": 558
        },
        "id": "ucKWUKaPdvX9",
        "outputId": "ca63c54c-009c-4f06-e13d-03219c656ddb"
      },
      "outputs": [
        {
          "name": "stdout",
          "output_type": "stream",
          "text": [
            "[[0.4 0.4 0.4 ... 0.4 0.4 0.4]\n",
            " [0.8 0.8 0.8 ... 0.4 0.4 0.4]\n",
            " [0.4 0.4 0.4 ... 0.8 0.8 0.8]\n",
            " ...\n",
            " [0.8 0.8 0.8 ... 0.4 0.4 0.4]\n",
            " [0.4 0.4 0.4 ... 0.4 0.4 0.4]\n",
            " [0.8 0.8 0.8 ... 0.8 0.8 0.8]]\n"
          ]
        },
        {
          "data": {
            "image/png": "[encoded data removed]",
            "text/plain": [
              "<Figure size 640x480 with 1 Axes>"
            ]
          },
          "metadata": {},
          "output_type": "display_data"
        }
      ],
      "source": [
        "# right now not dependent on position value\n",
        "x_final_t = x_data[-1]\n",
        "#print(x_final_t)\n",
        "image = create_pixelated_image(x_final_t)\n",
        "show_image(image)"
      ]
    },
    {
      "cell_type": "code",
      "execution_count": null,
      "metadata": {
        "id": "Zjpeymaj73VG"
      },
      "outputs": [],
      "source": [
        "  # implementing a (dirty) sine wave function for the matrix. (dirty) means that we are giving different values from 0.4 to 0.6 within the sine wave\n",
        "\"\"\"\n",
        "  print(int(x_final_t[0][0]), int(np.sin(x_final_t[0][0]) + 49))\n",
        "  for i in range(0, num_rows):\n",
        "\n",
        "    M[int(x_final_t[0][0]), int(np.sin(x_final_t[0][0]) + 49)] = 1\n",
        "\n",
        "  # implementing a (dirty) cosine wave function for the matrix. (dirty) means that we are giving different values from 0.1 to 0.3 within the cosine wave\n",
        "  for i in range(0, num_rows):\n",
        "    M[x_final_t[0], np.cos(x_final_t) + 40] = 0.1 * (random.randint(1, 3))\n",
        "\n",
        "  # implementing a (dirty) dust generator the generates 100 random dirt specs on the matrix lol\n",
        "  for i in range(0, 100):\n",
        "    M[random.randint(0, 99), random.randint(0, 99)] = 0.1 * (random.randint(0, 10))\n",
        "\n",
        "\n",
        "  # start_row is the y value (middle of the road) that the car should be located at\n",
        "  add_car(M, x_final_t[0], start_row) # I don't know what to put here for start_row...\n",
        "\"\"\"\n",
        "  # failed sine road\n",
        "  #sine_wave = 50 * np.sin(np.linspace(0, 2*np.pi, 100)) + 50  #create sine wave\n",
        "  #M[45: 65, :] = sine_wave.astype(int)  # 11th row\n",
        "\n",
        "  # failed sine road\n",
        "  # the sine gradient row\n",
        " #for i in range(45, 60):\n",
        "   # sine_wave = 0.05 * np.sin(np.linspace(-2*np.pi, 2*np.pi, 100)) + 5 #create sine wave\n",
        "    #M[i, :] = sine_wave.astype(int)\n",
        "\n",
        "  # failed sine road\n",
        "  #sin_value = 25 * np.sin(np.linspace(0, 2*np.pi, 100)) + 25\n",
        "  #M[, int(sin_value)] = 1"
      ]
    }
  ],
  "metadata": {
    "colab": {
      "provenance": []
    },
    "kernelspec": {
      "display_name": "Python 3",
      "name": "python3"
    },
    "language_info": {
      "name": "python"
    }
  },
  "nbformat": 4,
  "nbformat_minor": 0
}